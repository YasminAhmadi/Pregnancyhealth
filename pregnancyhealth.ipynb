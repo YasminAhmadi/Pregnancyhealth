{
  "cells": [
    {
      "cell_type": "code",
      "execution_count": null,
      "id": "b9b33409",
      "metadata": {
        "id": "b9b33409"
      },
      "outputs": [],
      "source": [
        "import pandas as pd\n",
        "import numpy as np\n",
        "import seaborn as sns\n",
        "from sklearn.model_selection import cross_val_score\n",
        "from sklearn.model_selection import train_test_split\n",
        "from sklearn.preprocessing import StandardScaler\n",
        "from sklearn.metrics import confusion_matrix, accuracy_score\n",
        "from sklearn.metrics import classification_report\n",
        "from matplotlib import pyplot as plt"
      ]
    },
    {
      "cell_type": "code",
      "execution_count": null,
      "id": "71ebdf7f",
      "metadata": {
        "id": "71ebdf7f",
        "outputId": "1efc3ce5-93be-45b6-e366-278759239936"
      },
      "outputs": [
        {
          "data": {
            "text/html": [
              "<div>\n",
              "<style scoped>\n",
              "    .dataframe tbody tr th:only-of-type {\n",
              "        vertical-align: middle;\n",
              "    }\n",
              "\n",
              "    .dataframe tbody tr th {\n",
              "        vertical-align: top;\n",
              "    }\n",
              "\n",
              "    .dataframe thead th {\n",
              "        text-align: right;\n",
              "    }\n",
              "</style>\n",
              "<table border=\"1\" class=\"dataframe\">\n",
              "  <thead>\n",
              "    <tr style=\"text-align: right;\">\n",
              "      <th></th>\n",
              "      <th>Age</th>\n",
              "      <th>SystolicBP</th>\n",
              "      <th>DiastolicBP</th>\n",
              "      <th>BS</th>\n",
              "      <th>BodyTemp</th>\n",
              "      <th>HeartRate</th>\n",
              "      <th>RiskLevel</th>\n",
              "    </tr>\n",
              "  </thead>\n",
              "  <tbody>\n",
              "    <tr>\n",
              "      <th>0</th>\n",
              "      <td>25</td>\n",
              "      <td>130</td>\n",
              "      <td>80</td>\n",
              "      <td>15.0</td>\n",
              "      <td>98.0</td>\n",
              "      <td>86</td>\n",
              "      <td>high risk</td>\n",
              "    </tr>\n",
              "    <tr>\n",
              "      <th>1</th>\n",
              "      <td>35</td>\n",
              "      <td>140</td>\n",
              "      <td>90</td>\n",
              "      <td>13.0</td>\n",
              "      <td>98.0</td>\n",
              "      <td>70</td>\n",
              "      <td>high risk</td>\n",
              "    </tr>\n",
              "    <tr>\n",
              "      <th>2</th>\n",
              "      <td>29</td>\n",
              "      <td>90</td>\n",
              "      <td>70</td>\n",
              "      <td>8.0</td>\n",
              "      <td>100.0</td>\n",
              "      <td>80</td>\n",
              "      <td>high risk</td>\n",
              "    </tr>\n",
              "    <tr>\n",
              "      <th>3</th>\n",
              "      <td>30</td>\n",
              "      <td>140</td>\n",
              "      <td>85</td>\n",
              "      <td>7.0</td>\n",
              "      <td>98.0</td>\n",
              "      <td>70</td>\n",
              "      <td>high risk</td>\n",
              "    </tr>\n",
              "    <tr>\n",
              "      <th>4</th>\n",
              "      <td>35</td>\n",
              "      <td>120</td>\n",
              "      <td>60</td>\n",
              "      <td>6.1</td>\n",
              "      <td>98.0</td>\n",
              "      <td>76</td>\n",
              "      <td>low risk</td>\n",
              "    </tr>\n",
              "  </tbody>\n",
              "</table>\n",
              "</div>"
            ],
            "text/plain": [
              "   Age  SystolicBP  DiastolicBP    BS  BodyTemp  HeartRate  RiskLevel\n",
              "0   25         130           80  15.0      98.0         86  high risk\n",
              "1   35         140           90  13.0      98.0         70  high risk\n",
              "2   29          90           70   8.0     100.0         80  high risk\n",
              "3   30         140           85   7.0      98.0         70  high risk\n",
              "4   35         120           60   6.1      98.0         76   low risk"
            ]
          },
          "execution_count": 2,
          "metadata": {},
          "output_type": "execute_result"
        }
      ],
      "source": [
        "#reading data\n",
        "df = pd.read_csv('Maternal Health Risk Data Set.csv')\n",
        "df.head()"
      ]
    },
    {
      "cell_type": "code",
      "execution_count": null,
      "id": "f257c4e9",
      "metadata": {
        "id": "f257c4e9",
        "outputId": "5455ac31-73d5-4615-9f06-d7dffa8f91c1"
      },
      "outputs": [
        {
          "data": {
            "text/html": [
              "<div>\n",
              "<style scoped>\n",
              "    .dataframe tbody tr th:only-of-type {\n",
              "        vertical-align: middle;\n",
              "    }\n",
              "\n",
              "    .dataframe tbody tr th {\n",
              "        vertical-align: top;\n",
              "    }\n",
              "\n",
              "    .dataframe thead th {\n",
              "        text-align: right;\n",
              "    }\n",
              "</style>\n",
              "<table border=\"1\" class=\"dataframe\">\n",
              "  <thead>\n",
              "    <tr style=\"text-align: right;\">\n",
              "      <th></th>\n",
              "      <th>Age</th>\n",
              "      <th>SystolicBP</th>\n",
              "      <th>DiastolicBP</th>\n",
              "      <th>BS</th>\n",
              "      <th>BodyTemp</th>\n",
              "      <th>HeartRate</th>\n",
              "      <th>RiskLevel</th>\n",
              "    </tr>\n",
              "  </thead>\n",
              "  <tbody>\n",
              "    <tr>\n",
              "      <th>1009</th>\n",
              "      <td>22</td>\n",
              "      <td>120</td>\n",
              "      <td>60</td>\n",
              "      <td>15.0</td>\n",
              "      <td>98.0</td>\n",
              "      <td>80</td>\n",
              "      <td>high risk</td>\n",
              "    </tr>\n",
              "    <tr>\n",
              "      <th>1010</th>\n",
              "      <td>55</td>\n",
              "      <td>120</td>\n",
              "      <td>90</td>\n",
              "      <td>18.0</td>\n",
              "      <td>98.0</td>\n",
              "      <td>60</td>\n",
              "      <td>high risk</td>\n",
              "    </tr>\n",
              "    <tr>\n",
              "      <th>1011</th>\n",
              "      <td>35</td>\n",
              "      <td>85</td>\n",
              "      <td>60</td>\n",
              "      <td>19.0</td>\n",
              "      <td>98.0</td>\n",
              "      <td>86</td>\n",
              "      <td>high risk</td>\n",
              "    </tr>\n",
              "    <tr>\n",
              "      <th>1012</th>\n",
              "      <td>43</td>\n",
              "      <td>120</td>\n",
              "      <td>90</td>\n",
              "      <td>18.0</td>\n",
              "      <td>98.0</td>\n",
              "      <td>70</td>\n",
              "      <td>high risk</td>\n",
              "    </tr>\n",
              "    <tr>\n",
              "      <th>1013</th>\n",
              "      <td>32</td>\n",
              "      <td>120</td>\n",
              "      <td>65</td>\n",
              "      <td>6.0</td>\n",
              "      <td>101.0</td>\n",
              "      <td>76</td>\n",
              "      <td>mid risk</td>\n",
              "    </tr>\n",
              "  </tbody>\n",
              "</table>\n",
              "</div>"
            ],
            "text/plain": [
              "      Age  SystolicBP  DiastolicBP    BS  BodyTemp  HeartRate  RiskLevel\n",
              "1009   22         120           60  15.0      98.0         80  high risk\n",
              "1010   55         120           90  18.0      98.0         60  high risk\n",
              "1011   35          85           60  19.0      98.0         86  high risk\n",
              "1012   43         120           90  18.0      98.0         70  high risk\n",
              "1013   32         120           65   6.0     101.0         76   mid risk"
            ]
          },
          "execution_count": 3,
          "metadata": {},
          "output_type": "execute_result"
        }
      ],
      "source": [
        "df.tail()"
      ]
    },
    {
      "cell_type": "code",
      "execution_count": null,
      "id": "d9ae971c",
      "metadata": {
        "id": "d9ae971c",
        "outputId": "72cdf61c-fb5f-416f-ab86-56fa880deb0a"
      },
      "outputs": [
        {
          "data": {
            "text/plain": [
              "Age              int64\n",
              "SystolicBP       int64\n",
              "DiastolicBP      int64\n",
              "BS             float64\n",
              "BodyTemp       float64\n",
              "HeartRate        int64\n",
              "RiskLevel       object\n",
              "dtype: object"
            ]
          },
          "execution_count": 4,
          "metadata": {},
          "output_type": "execute_result"
        }
      ],
      "source": [
        "df.dtypes"
      ]
    },
    {
      "cell_type": "code",
      "execution_count": null,
      "id": "c212efef",
      "metadata": {
        "id": "c212efef",
        "outputId": "70a9e065-40bf-4717-be5e-0a1aadda467b"
      },
      "outputs": [
        {
          "name": "stdout",
          "output_type": "stream",
          "text": [
            "<class 'pandas.core.frame.DataFrame'>\n",
            "RangeIndex: 1014 entries, 0 to 1013\n",
            "Data columns (total 7 columns):\n",
            " #   Column       Non-Null Count  Dtype  \n",
            "---  ------       --------------  -----  \n",
            " 0   Age          1014 non-null   int64  \n",
            " 1   SystolicBP   1014 non-null   int64  \n",
            " 2   DiastolicBP  1014 non-null   int64  \n",
            " 3   BS           1014 non-null   float64\n",
            " 4   BodyTemp     1014 non-null   float64\n",
            " 5   HeartRate    1014 non-null   int64  \n",
            " 6   RiskLevel    1014 non-null   object \n",
            "dtypes: float64(2), int64(4), object(1)\n",
            "memory usage: 55.6+ KB\n"
          ]
        }
      ],
      "source": [
        "df.info()"
      ]
    },
    {
      "cell_type": "code",
      "execution_count": null,
      "id": "b655bcd1",
      "metadata": {
        "id": "b655bcd1",
        "outputId": "3591a0a6-b8e9-4990-c1e5-08ea49a93bf7"
      },
      "outputs": [
        {
          "data": {
            "text/plain": [
              "(1014, 7)"
            ]
          },
          "execution_count": 6,
          "metadata": {},
          "output_type": "execute_result"
        }
      ],
      "source": [
        "df.shape"
      ]
    },
    {
      "cell_type": "code",
      "execution_count": null,
      "id": "e97e83c1",
      "metadata": {
        "id": "e97e83c1",
        "outputId": "62cff4ef-fb7a-42b7-9894-21b926481533"
      },
      "outputs": [
        {
          "data": {
            "text/plain": [
              "Age            0\n",
              "SystolicBP     0\n",
              "DiastolicBP    0\n",
              "BS             0\n",
              "BodyTemp       0\n",
              "HeartRate      0\n",
              "RiskLevel      0\n",
              "dtype: int64"
            ]
          },
          "execution_count": 7,
          "metadata": {},
          "output_type": "execute_result"
        }
      ],
      "source": [
        "#to check the number of missing values in each columngives you pandas series of column names along with the sum of missing values in each column\n",
        "df.isnull().sum()"
      ]
    },
    {
      "cell_type": "code",
      "execution_count": null,
      "id": "cc012a44",
      "metadata": {
        "id": "cc012a44",
        "outputId": "b54a4786-161b-4a43-9de5-fa4e3e8e0482"
      },
      "outputs": [
        {
          "data": {
            "text/plain": [
              "True"
            ]
          },
          "execution_count": 8,
          "metadata": {},
          "output_type": "execute_result"
        }
      ],
      "source": [
        "#identify duplicates\n",
        "data_dup = df.duplicated().any()\n",
        "data_dup"
      ]
    },
    {
      "cell_type": "code",
      "execution_count": null,
      "id": "3c60d523",
      "metadata": {
        "id": "3c60d523"
      },
      "outputs": [],
      "source": [
        "#remove duplicates\n",
        "df = df.drop_duplicates()"
      ]
    },
    {
      "cell_type": "code",
      "execution_count": null,
      "id": "553bb08e",
      "metadata": {
        "id": "553bb08e",
        "outputId": "640248d2-d61b-4700-ad48-adf159f2e4d7"
      },
      "outputs": [
        {
          "data": {
            "text/plain": [
              "False"
            ]
          },
          "execution_count": 10,
          "metadata": {},
          "output_type": "execute_result"
        }
      ],
      "source": [
        "#now free of duplicates\n",
        "data_dup = df.duplicated().any()\n",
        "data_dup"
      ]
    },
    {
      "cell_type": "code",
      "execution_count": null,
      "id": "01f63a7b",
      "metadata": {
        "id": "01f63a7b",
        "outputId": "ec8880f0-5629-49bd-a656-bbecc67b10e1"
      },
      "outputs": [
        {
          "data": {
            "text/html": [
              "<div>\n",
              "<style scoped>\n",
              "    .dataframe tbody tr th:only-of-type {\n",
              "        vertical-align: middle;\n",
              "    }\n",
              "\n",
              "    .dataframe tbody tr th {\n",
              "        vertical-align: top;\n",
              "    }\n",
              "\n",
              "    .dataframe thead th {\n",
              "        text-align: right;\n",
              "    }\n",
              "</style>\n",
              "<table border=\"1\" class=\"dataframe\">\n",
              "  <thead>\n",
              "    <tr style=\"text-align: right;\">\n",
              "      <th></th>\n",
              "      <th>Age</th>\n",
              "      <th>SystolicBP</th>\n",
              "      <th>DiastolicBP</th>\n",
              "      <th>BS</th>\n",
              "      <th>BodyTemp</th>\n",
              "      <th>HeartRate</th>\n",
              "      <th>RiskLevel</th>\n",
              "    </tr>\n",
              "  </thead>\n",
              "  <tbody>\n",
              "    <tr>\n",
              "      <th>0</th>\n",
              "      <td>25</td>\n",
              "      <td>130</td>\n",
              "      <td>80</td>\n",
              "      <td>15.0</td>\n",
              "      <td>98.0</td>\n",
              "      <td>86</td>\n",
              "      <td>3.0</td>\n",
              "    </tr>\n",
              "    <tr>\n",
              "      <th>1</th>\n",
              "      <td>35</td>\n",
              "      <td>140</td>\n",
              "      <td>90</td>\n",
              "      <td>13.0</td>\n",
              "      <td>98.0</td>\n",
              "      <td>70</td>\n",
              "      <td>3.0</td>\n",
              "    </tr>\n",
              "    <tr>\n",
              "      <th>2</th>\n",
              "      <td>29</td>\n",
              "      <td>90</td>\n",
              "      <td>70</td>\n",
              "      <td>8.0</td>\n",
              "      <td>100.0</td>\n",
              "      <td>80</td>\n",
              "      <td>3.0</td>\n",
              "    </tr>\n",
              "    <tr>\n",
              "      <th>3</th>\n",
              "      <td>30</td>\n",
              "      <td>140</td>\n",
              "      <td>85</td>\n",
              "      <td>7.0</td>\n",
              "      <td>98.0</td>\n",
              "      <td>70</td>\n",
              "      <td>3.0</td>\n",
              "    </tr>\n",
              "    <tr>\n",
              "      <th>4</th>\n",
              "      <td>35</td>\n",
              "      <td>120</td>\n",
              "      <td>60</td>\n",
              "      <td>6.1</td>\n",
              "      <td>98.0</td>\n",
              "      <td>76</td>\n",
              "      <td>1.0</td>\n",
              "    </tr>\n",
              "    <tr>\n",
              "      <th>...</th>\n",
              "      <td>...</td>\n",
              "      <td>...</td>\n",
              "      <td>...</td>\n",
              "      <td>...</td>\n",
              "      <td>...</td>\n",
              "      <td>...</td>\n",
              "      <td>...</td>\n",
              "    </tr>\n",
              "    <tr>\n",
              "      <th>673</th>\n",
              "      <td>12</td>\n",
              "      <td>100</td>\n",
              "      <td>50</td>\n",
              "      <td>6.4</td>\n",
              "      <td>98.0</td>\n",
              "      <td>70</td>\n",
              "      <td>2.0</td>\n",
              "    </tr>\n",
              "    <tr>\n",
              "      <th>674</th>\n",
              "      <td>15</td>\n",
              "      <td>100</td>\n",
              "      <td>60</td>\n",
              "      <td>6.0</td>\n",
              "      <td>98.0</td>\n",
              "      <td>80</td>\n",
              "      <td>1.0</td>\n",
              "    </tr>\n",
              "    <tr>\n",
              "      <th>703</th>\n",
              "      <td>15</td>\n",
              "      <td>100</td>\n",
              "      <td>49</td>\n",
              "      <td>7.6</td>\n",
              "      <td>98.0</td>\n",
              "      <td>77</td>\n",
              "      <td>1.0</td>\n",
              "    </tr>\n",
              "    <tr>\n",
              "      <th>704</th>\n",
              "      <td>12</td>\n",
              "      <td>100</td>\n",
              "      <td>50</td>\n",
              "      <td>6.0</td>\n",
              "      <td>98.0</td>\n",
              "      <td>70</td>\n",
              "      <td>2.0</td>\n",
              "    </tr>\n",
              "    <tr>\n",
              "      <th>705</th>\n",
              "      <td>21</td>\n",
              "      <td>100</td>\n",
              "      <td>50</td>\n",
              "      <td>6.8</td>\n",
              "      <td>98.0</td>\n",
              "      <td>60</td>\n",
              "      <td>1.0</td>\n",
              "    </tr>\n",
              "  </tbody>\n",
              "</table>\n",
              "<p>452 rows × 7 columns</p>\n",
              "</div>"
            ],
            "text/plain": [
              "     Age  SystolicBP  DiastolicBP    BS  BodyTemp  HeartRate  RiskLevel\n",
              "0     25         130           80  15.0      98.0         86        3.0\n",
              "1     35         140           90  13.0      98.0         70        3.0\n",
              "2     29          90           70   8.0     100.0         80        3.0\n",
              "3     30         140           85   7.0      98.0         70        3.0\n",
              "4     35         120           60   6.1      98.0         76        1.0\n",
              "..   ...         ...          ...   ...       ...        ...        ...\n",
              "673   12         100           50   6.4      98.0         70        2.0\n",
              "674   15         100           60   6.0      98.0         80        1.0\n",
              "703   15         100           49   7.6      98.0         77        1.0\n",
              "704   12         100           50   6.0      98.0         70        2.0\n",
              "705   21         100           50   6.8      98.0         60        1.0\n",
              "\n",
              "[452 rows x 7 columns]"
            ]
          },
          "execution_count": 11,
          "metadata": {},
          "output_type": "execute_result"
        }
      ],
      "source": [
        "#encoding the categorical data\n",
        "RiskLevel = {'low risk':1, 'mid risk':2, 'high risk':3}\n",
        "#using map (mapping each category to the according number)\n",
        "df['RiskLevel'] = df['RiskLevel'].map(RiskLevel).astype(float)\n",
        "df"
      ]
    },
    {
      "cell_type": "code",
      "execution_count": null,
      "id": "e358a878",
      "metadata": {
        "id": "e358a878"
      },
      "outputs": [],
      "source": [
        "#we want x to be all features except class\n",
        "X = df.drop('RiskLevel',axis=1)\n",
        "#only the class feature\n",
        "y = df['RiskLevel']"
      ]
    },
    {
      "cell_type": "code",
      "execution_count": null,
      "id": "eb19dffd",
      "metadata": {
        "id": "eb19dffd",
        "outputId": "3de152d4-55e1-46e9-f614-f8dc07a27fd0"
      },
      "outputs": [
        {
          "data": {
            "text/html": [
              "<div>\n",
              "<style scoped>\n",
              "    .dataframe tbody tr th:only-of-type {\n",
              "        vertical-align: middle;\n",
              "    }\n",
              "\n",
              "    .dataframe tbody tr th {\n",
              "        vertical-align: top;\n",
              "    }\n",
              "\n",
              "    .dataframe thead th {\n",
              "        text-align: right;\n",
              "    }\n",
              "</style>\n",
              "<table border=\"1\" class=\"dataframe\">\n",
              "  <thead>\n",
              "    <tr style=\"text-align: right;\">\n",
              "      <th></th>\n",
              "      <th>Age</th>\n",
              "      <th>SystolicBP</th>\n",
              "      <th>DiastolicBP</th>\n",
              "      <th>BS</th>\n",
              "      <th>BodyTemp</th>\n",
              "      <th>HeartRate</th>\n",
              "    </tr>\n",
              "  </thead>\n",
              "  <tbody>\n",
              "    <tr>\n",
              "      <th>0</th>\n",
              "      <td>25</td>\n",
              "      <td>130</td>\n",
              "      <td>80</td>\n",
              "      <td>15.0</td>\n",
              "      <td>98.0</td>\n",
              "      <td>86</td>\n",
              "    </tr>\n",
              "    <tr>\n",
              "      <th>1</th>\n",
              "      <td>35</td>\n",
              "      <td>140</td>\n",
              "      <td>90</td>\n",
              "      <td>13.0</td>\n",
              "      <td>98.0</td>\n",
              "      <td>70</td>\n",
              "    </tr>\n",
              "    <tr>\n",
              "      <th>2</th>\n",
              "      <td>29</td>\n",
              "      <td>90</td>\n",
              "      <td>70</td>\n",
              "      <td>8.0</td>\n",
              "      <td>100.0</td>\n",
              "      <td>80</td>\n",
              "    </tr>\n",
              "    <tr>\n",
              "      <th>3</th>\n",
              "      <td>30</td>\n",
              "      <td>140</td>\n",
              "      <td>85</td>\n",
              "      <td>7.0</td>\n",
              "      <td>98.0</td>\n",
              "      <td>70</td>\n",
              "    </tr>\n",
              "    <tr>\n",
              "      <th>4</th>\n",
              "      <td>35</td>\n",
              "      <td>120</td>\n",
              "      <td>60</td>\n",
              "      <td>6.1</td>\n",
              "      <td>98.0</td>\n",
              "      <td>76</td>\n",
              "    </tr>\n",
              "    <tr>\n",
              "      <th>...</th>\n",
              "      <td>...</td>\n",
              "      <td>...</td>\n",
              "      <td>...</td>\n",
              "      <td>...</td>\n",
              "      <td>...</td>\n",
              "      <td>...</td>\n",
              "    </tr>\n",
              "    <tr>\n",
              "      <th>673</th>\n",
              "      <td>12</td>\n",
              "      <td>100</td>\n",
              "      <td>50</td>\n",
              "      <td>6.4</td>\n",
              "      <td>98.0</td>\n",
              "      <td>70</td>\n",
              "    </tr>\n",
              "    <tr>\n",
              "      <th>674</th>\n",
              "      <td>15</td>\n",
              "      <td>100</td>\n",
              "      <td>60</td>\n",
              "      <td>6.0</td>\n",
              "      <td>98.0</td>\n",
              "      <td>80</td>\n",
              "    </tr>\n",
              "    <tr>\n",
              "      <th>703</th>\n",
              "      <td>15</td>\n",
              "      <td>100</td>\n",
              "      <td>49</td>\n",
              "      <td>7.6</td>\n",
              "      <td>98.0</td>\n",
              "      <td>77</td>\n",
              "    </tr>\n",
              "    <tr>\n",
              "      <th>704</th>\n",
              "      <td>12</td>\n",
              "      <td>100</td>\n",
              "      <td>50</td>\n",
              "      <td>6.0</td>\n",
              "      <td>98.0</td>\n",
              "      <td>70</td>\n",
              "    </tr>\n",
              "    <tr>\n",
              "      <th>705</th>\n",
              "      <td>21</td>\n",
              "      <td>100</td>\n",
              "      <td>50</td>\n",
              "      <td>6.8</td>\n",
              "      <td>98.0</td>\n",
              "      <td>60</td>\n",
              "    </tr>\n",
              "  </tbody>\n",
              "</table>\n",
              "<p>452 rows × 6 columns</p>\n",
              "</div>"
            ],
            "text/plain": [
              "     Age  SystolicBP  DiastolicBP    BS  BodyTemp  HeartRate\n",
              "0     25         130           80  15.0      98.0         86\n",
              "1     35         140           90  13.0      98.0         70\n",
              "2     29          90           70   8.0     100.0         80\n",
              "3     30         140           85   7.0      98.0         70\n",
              "4     35         120           60   6.1      98.0         76\n",
              "..   ...         ...          ...   ...       ...        ...\n",
              "673   12         100           50   6.4      98.0         70\n",
              "674   15         100           60   6.0      98.0         80\n",
              "703   15         100           49   7.6      98.0         77\n",
              "704   12         100           50   6.0      98.0         70\n",
              "705   21         100           50   6.8      98.0         60\n",
              "\n",
              "[452 rows x 6 columns]"
            ]
          },
          "execution_count": 13,
          "metadata": {},
          "output_type": "execute_result"
        }
      ],
      "source": [
        "X"
      ]
    },
    {
      "cell_type": "code",
      "execution_count": null,
      "id": "a445a47f",
      "metadata": {
        "id": "a445a47f",
        "outputId": "9b7a97ec-ee3b-4646-9158-b1811993d0a4"
      },
      "outputs": [
        {
          "data": {
            "text/plain": [
              "0      3.0\n",
              "1      3.0\n",
              "2      3.0\n",
              "3      3.0\n",
              "4      1.0\n",
              "      ... \n",
              "673    2.0\n",
              "674    1.0\n",
              "703    1.0\n",
              "704    2.0\n",
              "705    1.0\n",
              "Name: RiskLevel, Length: 452, dtype: float64"
            ]
          },
          "execution_count": 14,
          "metadata": {},
          "output_type": "execute_result"
        }
      ],
      "source": [
        "y"
      ]
    },
    {
      "cell_type": "code",
      "execution_count": null,
      "id": "e5ebff6a",
      "metadata": {
        "id": "e5ebff6a",
        "outputId": "4cbb1d8c-660b-4998-c7f4-e177a3671b1e"
      },
      "outputs": [
        {
          "data": {
            "image/png": "[encoded data removed]",
            "text/plain": [
              "<Figure size 1440x288 with 6 Axes>"
            ]
          },
          "metadata": {
            "needs_background": "light"
          },
          "output_type": "display_data"
        }
      ],
      "source": [
        "#plotting\n",
        "plt.figure(figsize=(20, 4))\n",
        "for i in range(X.shape[1]):\n",
        "    ax = plt.subplot(1, X.shape[1], i+1)\n",
        "    sns.histplot(X.values[:, i], ax=ax)"
      ]
    },
    {
      "cell_type": "code",
      "execution_count": null,
      "id": "d7514192",
      "metadata": {
        "id": "d7514192",
        "outputId": "7ba26b7f-7126-45e9-97e6-01db340c6566"
      },
      "outputs": [
        {
          "data": {
            "text/plain": [
              "425    3.0\n",
              "39     1.0\n",
              "492    2.0\n",
              "484    1.0\n",
              "192    3.0\n",
              "      ... \n",
              "29     1.0\n",
              "171    3.0\n",
              "377    1.0\n",
              "26     1.0\n",
              "7      3.0\n",
              "Name: RiskLevel, Length: 136, dtype: float64"
            ]
          },
          "execution_count": 16,
          "metadata": {},
          "output_type": "execute_result"
        }
      ],
      "source": [
        "#shuffling and splitting data to test X and y (0.3) and train X and y (0.7)\n",
        "X_train,X_test,y_train,y_test=train_test_split(X,y,test_size=0.3,random_state=42,shuffle=True)\n",
        "y_test"
      ]
    },
    {
      "cell_type": "code",
      "execution_count": null,
      "id": "a65f3ad7",
      "metadata": {
        "id": "a65f3ad7",
        "outputId": "12497a2a-5417-467b-c90c-a2c6b893b19d"
      },
      "outputs": [
        {
          "name": "stdout",
          "output_type": "stream",
          "text": [
            "Training Shape x: (316, 6)\n",
            "Testing Shape x: (136, 6)\n",
            "\n",
            "\n",
            "Training Shape y: (452, 6)\n",
            "Testing Shape y: (452,)\n"
          ]
        }
      ],
      "source": [
        "print(f'Training Shape x:',X_train.shape)\n",
        "print(f'Testing Shape x:',X_test.shape)\n",
        "print('\\n')\n",
        "print(f'Training Shape y:',X.shape)\n",
        "print(f'Testing Shape y:',y.shape)"
      ]
    },
    {
      "cell_type": "code",
      "execution_count": null,
      "id": "0d86ceaa",
      "metadata": {
        "id": "0d86ceaa"
      },
      "outputs": [],
      "source": [
        "#normalizing features\n",
        "ss = StandardScaler()\n",
        "\n",
        "X_train = ss.fit_transform(X_train)\n",
        "X_test= ss.transform(X_test)"
      ]
    },
    {
      "cell_type": "code",
      "execution_count": null,
      "id": "ed005a30",
      "metadata": {
        "id": "ed005a30",
        "outputId": "2e4fd59d-8825-42a4-b811-5c25702d720c"
      },
      "outputs": [
        {
          "name": "stdout",
          "output_type": "stream",
          "text": [
            "[0.61538462 0.53846154 0.58888889 0.42222222 0.5       ]\n",
            "Train accuracy: 0.7246835443037974\n",
            "Test accuracy: 0.6544117647058824\n",
            "[3. 1. 1. 1. 3. 1. 3. 1. 1. 1. 3. 3. 1. 1. 1. 1. 1. 1. 1. 1. 1. 1. 1. 3.\n",
            " 3. 1. 1. 1. 3. 1. 1. 3. 1. 3. 1. 1. 1. 1. 3. 1. 1. 2. 1. 1. 1. 3. 1. 1.\n",
            " 2. 1. 1. 1. 1. 1. 1. 1. 1. 1. 1. 1. 1. 3. 1. 3. 1. 1. 1. 1. 1. 1. 3. 2.\n",
            " 1. 1. 3. 1. 1. 1. 1. 3. 3. 1. 1. 1. 1. 1. 1. 1. 1. 1. 1. 1. 3. 3. 1. 1.\n",
            " 1. 1. 3. 3. 1. 3. 1. 1. 3. 3. 1. 1. 3. 1. 1. 1. 1. 3. 1. 1. 3. 3. 1. 2.\n",
            " 1. 2. 1. 1. 1. 1. 3. 1. 3. 1. 1. 1. 3. 1. 1. 3.]\n",
            "CM: [[62  2  1]\n",
            " [30  2  7]\n",
            " [ 6  1 25]]\n",
            "Accuracy: 65.44117647058823 %\n",
            "              precision    recall  f1-score   support\n",
            "\n",
            "         1.0       0.63      0.95      0.76        65\n",
            "         2.0       0.40      0.05      0.09        39\n",
            "         3.0       0.76      0.78      0.77        32\n",
            "\n",
            "    accuracy                           0.65       136\n",
            "   macro avg       0.60      0.60      0.54       136\n",
            "weighted avg       0.60      0.65      0.57       136\n",
            "\n"
          ]
        }
      ],
      "source": [
        "#performing Support Vector Classification (SVC)\n",
        "from sklearn.svm import SVC\n",
        "\n",
        "#SVM\n",
        "\n",
        "svm = SVC(kernel='rbf', random_state=0, gamma=.10, C=1.0)\n",
        "svm.fit(X_train, y_train)\n",
        "scores = cross_val_score(svm, X, y, cv=5, scoring='accuracy')\n",
        "print(scores)\n",
        "print(\"Train accuracy:\",svm.score(X_train,y_train))\n",
        "print(\"Test accuracy:\",svm.score(X_test,y_test))\n",
        "\n",
        "y_pred = svm.predict(X_test)\n",
        "print(y_pred)\n",
        "cm = confusion_matrix(y_test, y_pred)\n",
        "print(f'CM:',cm)\n",
        "print(f'Accuracy:',accuracy_score(y_test, y_pred)* 100 ,'%')\n",
        "print(classification_report(y_test, svm.predict(X_test)))"
      ]
    },
    {
      "cell_type": "code",
      "execution_count": null,
      "id": "2ee7ddf7",
      "metadata": {
        "id": "2ee7ddf7",
        "outputId": "806da8c4-c00c-4f3f-e18a-de8cbf6d3e52"
      },
      "outputs": [
        {
          "name": "stdout",
          "output_type": "stream",
          "text": [
            "[0.7032967  0.62637363 0.63333333 0.52222222 0.54444444]\n",
            "Train accuracy: 0.7436708860759493\n",
            "Test accuracy: 0.6397058823529411\n",
            "[3. 1. 2. 2. 2. 1. 3. 1. 1. 1. 3. 3. 1. 1. 1. 1. 1. 1. 1. 1. 1. 1. 2. 3.\n",
            " 1. 1. 1. 1. 3. 1. 1. 1. 1. 1. 1. 1. 1. 1. 3. 1. 1. 1. 1. 1. 1. 2. 2. 1.\n",
            " 1. 1. 1. 1. 2. 1. 1. 1. 1. 1. 1. 1. 1. 3. 1. 1. 1. 1. 1. 1. 1. 1. 3. 1.\n",
            " 1. 2. 3. 1. 1. 1. 1. 3. 3. 1. 1. 1. 1. 1. 2. 1. 1. 1. 1. 1. 3. 1. 2. 2.\n",
            " 1. 1. 3. 1. 1. 2. 2. 1. 3. 1. 1. 1. 3. 1. 1. 1. 1. 1. 1. 1. 3. 3. 1. 2.\n",
            " 2. 2. 1. 1. 1. 1. 3. 1. 3. 1. 1. 1. 1. 1. 1. 3.]\n",
            "CM: [[60  5  0]\n",
            " [29  8  2]\n",
            " [10  3 19]]\n",
            "Accuracy: 63.970588235294116 %\n",
            "              precision    recall  f1-score   support\n",
            "\n",
            "         1.0       0.61      0.92      0.73        65\n",
            "         2.0       0.50      0.21      0.29        39\n",
            "         3.0       0.90      0.59      0.72        32\n",
            "\n",
            "    accuracy                           0.64       136\n",
            "   macro avg       0.67      0.57      0.58       136\n",
            "weighted avg       0.65      0.64      0.60       136\n",
            "\n"
          ]
        }
      ],
      "source": [
        "#KNN\n",
        "from sklearn.neighbors import KNeighborsClassifier\n",
        "\n",
        "#constructing KNN model\n",
        "#choosing n_neighbors = 5\n",
        "knn = KNeighborsClassifier(n_neighbors = 5)\n",
        "knn.fit(X_train, y_train)\n",
        "scores = cross_val_score(knn, X, y, cv=5, scoring='accuracy')\n",
        "print(scores)\n",
        "print(\"Train accuracy:\",knn.score(X_train,y_train))\n",
        "print(\"Test accuracy:\",knn.score(X_test,y_test))\n",
        "\n",
        "y_pred = knn.predict(X_test)\n",
        "print(y_pred)\n",
        "cm = confusion_matrix(y_test, y_pred)\n",
        "print(f'CM:',cm)\n",
        "print(f'Accuracy:',accuracy_score(y_test, y_pred)* 100 ,'%')\n",
        "print(classification_report(y_test, knn.predict(X_test)))"
      ]
    },
    {
      "cell_type": "code",
      "execution_count": null,
      "id": "f85890c2",
      "metadata": {
        "id": "f85890c2",
        "outputId": "fa3d318f-7b5a-4048-812d-c4178d07f441"
      },
      "outputs": [
        {
          "name": "stdout",
          "output_type": "stream",
          "text": [
            "[0.68131868 0.6043956  0.64444444 0.35555556 0.56666667]\n",
            "Train accuracy: 0.9430379746835443\n",
            "Test accuracy: 0.6397058823529411\n",
            "[3. 1. 2. 2. 2. 1. 3. 3. 1. 1. 3. 3. 1. 1. 1. 1. 1. 1. 1. 1. 2. 1. 1. 3.\n",
            " 3. 1. 3. 1. 2. 1. 1. 1. 1. 1. 2. 2. 1. 2. 2. 1. 2. 2. 1. 2. 2. 3. 2. 3.\n",
            " 2. 1. 1. 1. 1. 1. 1. 1. 1. 1. 1. 2. 1. 3. 2. 1. 1. 1. 1. 1. 1. 2. 3. 3.\n",
            " 1. 2. 3. 1. 1. 1. 2. 3. 2. 2. 2. 1. 1. 2. 2. 1. 1. 1. 1. 1. 3. 3. 1. 2.\n",
            " 1. 1. 3. 1. 2. 2. 2. 1. 2. 3. 2. 1. 3. 2. 3. 1. 2. 1. 1. 1. 3. 3. 1. 2.\n",
            " 3. 2. 1. 1. 2. 1. 3. 1. 3. 2. 1. 1. 1. 1. 1. 3.]\n",
            "CM: [[51 12  2]\n",
            " [18 16  5]\n",
            " [ 3  9 20]]\n",
            "Accuracy: 63.970588235294116 %\n",
            "              precision    recall  f1-score   support\n",
            "\n",
            "         1.0       0.71      0.78      0.74        65\n",
            "         2.0       0.43      0.41      0.42        39\n",
            "         3.0       0.74      0.62      0.68        32\n",
            "\n",
            "    accuracy                           0.64       136\n",
            "   macro avg       0.63      0.61      0.61       136\n",
            "weighted avg       0.64      0.64      0.64       136\n",
            "\n"
          ]
        }
      ],
      "source": [
        "#Decision Tree\n",
        "from sklearn import tree\n",
        "\n",
        "#Constructing tree object\n",
        "decision_tree = tree.DecisionTreeClassifier(criterion='gini')\n",
        "\n",
        "#Training Decision Tree on scaled training set\n",
        "decision_tree.fit(X_train, y_train)\n",
        "scores = cross_val_score(decision_tree, X, y, cv=5, scoring='accuracy')\n",
        "print(scores)\n",
        "print(\"Train accuracy:\",decision_tree.score(X_train,y_train))\n",
        "print(\"Test accuracy:\",decision_tree.score(X_test,y_test))\n",
        "\n",
        "y_pred = decision_tree.predict(X_test)\n",
        "print(y_pred)\n",
        "cm = confusion_matrix(y_test, y_pred)\n",
        "print(f'CM:',cm)\n",
        "print(f'Accuracy:',accuracy_score(y_test, y_pred)* 100 ,'%')\n",
        "print(classification_report(y_test, decision_tree.predict(X_test)))"
      ]
    },
    {
      "cell_type": "code",
      "execution_count": null,
      "id": "614595a2",
      "metadata": {
        "id": "614595a2",
        "outputId": "7780eab2-7c03-4e14-8b16-8958d09b6f15"
      },
      "outputs": [
        {
          "name": "stdout",
          "output_type": "stream",
          "text": [
            "[0.71428571 0.6043956  0.65555556 0.4        0.61111111]\n",
            "Train accuracy: 0.9430379746835443\n",
            "Test accuracy: 0.6397058823529411\n",
            "[3. 1. 2. 2. 2. 1. 3. 3. 1. 1. 3. 3. 1. 1. 1. 1. 1. 1. 1. 1. 1. 2. 1. 3.\n",
            " 3. 1. 1. 1. 2. 1. 1. 1. 1. 1. 1. 1. 1. 2. 3. 1. 1. 2. 1. 2. 1. 3. 2. 3.\n",
            " 1. 1. 1. 1. 1. 1. 1. 1. 1. 1. 1. 1. 1. 3. 1. 1. 1. 1. 1. 1. 1. 2. 3. 3.\n",
            " 1. 2. 3. 1. 1. 1. 1. 3. 3. 2. 2. 1. 1. 1. 1. 1. 1. 1. 2. 1. 3. 3. 2. 2.\n",
            " 2. 1. 3. 1. 2. 3. 2. 1. 3. 1. 2. 1. 3. 2. 2. 1. 3. 1. 1. 1. 3. 3. 1. 2.\n",
            " 3. 2. 1. 1. 1. 1. 3. 1. 3. 1. 1. 1. 3. 1. 1. 3.]\n",
            "CM: [[53 10  2]\n",
            " [25 10  4]\n",
            " [ 4  4 24]]\n",
            "Accuracy: 63.970588235294116 %\n",
            "              precision    recall  f1-score   support\n",
            "\n",
            "         1.0       0.65      0.82      0.72        65\n",
            "         2.0       0.42      0.26      0.32        39\n",
            "         3.0       0.80      0.75      0.77        32\n",
            "\n",
            "    accuracy                           0.64       136\n",
            "   macro avg       0.62      0.61      0.60       136\n",
            "weighted avg       0.62      0.64      0.62       136\n",
            "\n"
          ]
        }
      ],
      "source": [
        "#Random Forest\n",
        "from sklearn.ensemble import RandomForestClassifier\n",
        "\n",
        "#Create Random Forest object\n",
        "random_forest = RandomForestClassifier()\n",
        "\n",
        "#Train model\n",
        "random_forest.fit(X_train, y_train)\n",
        "scores = cross_val_score(random_forest, X, y, cv=5, scoring='accuracy')\n",
        "print(scores)\n",
        "print(\"Train accuracy:\",random_forest.score(X_train,y_train))\n",
        "print(\"Test accuracy:\",random_forest.score(X_test,y_test))\n",
        "\n",
        "y_pred = random_forest.predict(X_test)\n",
        "print(y_pred)\n",
        "cm = confusion_matrix(y_test, y_pred)\n",
        "print(f'CM:',cm)\n",
        "print(f'Accuracy:',accuracy_score(y_test, y_pred)* 100 ,'%')\n",
        "print(classification_report(y_test, random_forest.predict(X_test)))"
      ]
    },
    {
      "cell_type": "markdown",
      "id": "d3cb0751",
      "metadata": {
        "id": "d3cb0751"
      },
      "source": [
        "# Results:"
      ]
    },
    {
      "cell_type": "markdown",
      "id": "7595e5b4",
      "metadata": {
        "id": "7595e5b4"
      },
      "source": [
        "data was standardized in preprocessing."
      ]
    },
    {
      "cell_type": "markdown",
      "id": "7dfdffe1",
      "metadata": {
        "id": "7dfdffe1"
      },
      "source": [
        "Random forest and SVM achieved the highest accuracies."
      ]
    }
  ],
  "metadata": {
    "kernelspec": {
      "display_name": "Python 3 (ipykernel)",
      "language": "python",
      "name": "python3"
    },
    "language_info": {
      "codemirror_mode": {
        "name": "ipython",
        "version": 3
      },
      "file_extension": ".py",
      "mimetype": "text/x-python",
      "name": "python",
      "nbconvert_exporter": "python",
      "pygments_lexer": "ipython3",
      "version": "3.9.7"
    },
    "colab": {
      "provenance": []
    }
  },
  "nbformat": 4,
  "nbformat_minor": 5
}